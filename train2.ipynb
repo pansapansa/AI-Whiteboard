{
  "nbformat": 4,
  "nbformat_minor": 0,
  "metadata": {
    "colab": {
      "provenance": []
    },
    "kernelspec": {
      "name": "python3",
      "display_name": "Python 3"
    },
    "language_info": {
      "name": "python"
    }
  },
  "cells": [
    {
      "cell_type": "code",
      "execution_count": null,
      "metadata": {
        "id": "xxifIRXRvpjA"
      },
      "outputs": [],
      "source": [
        "import tensorflow as tf\n",
        "from tensorflow.keras import layers\n",
        "from tensorflow.keras.preprocessing.image import ImageDataGenerator\n",
        "import matplotlib.pyplot as plt\n",
        "\n",
        "batch_size = 32  \n",
        "\n",
        "dataset_path = \"/Users/jn/Desktop/hand-write-main/dataset 2\"\n",
        "\n",
        "#define epochs\n",
        "num_epochs = 50\n",
        "\n",
        "#shape of images\n",
        "image_height = 200\n",
        "image_width = 200\n",
        "num_channels = 3\n",
        "input_shape = (image_height, image_width, num_channels)\n",
        "\n",
        "#model\n",
        "model = tf.keras.Sequential([\n",
        "    layers.Conv2D(32, (3, 3), activation='relu', input_shape=input_shape),\n",
        "    layers.MaxPooling2D((2, 2)),\n",
        "    layers.Flatten(),\n",
        "    layers.Dense(4, activation='softmax')\n",
        "])\n",
        "\n",
        "\n",
        "model.compile(optimizer='adam',\n",
        "              loss='categorical_crossentropy',\n",
        "              metrics=['accuracy'])\n",
        "\n",
        "#create an instance\n",
        "data_generator = ImageDataGenerator(rescale=1./255)\n",
        "\n",
        "#load the dataset using the ImageDataGenerator\n",
        "train_data = data_generator.flow_from_directory(\n",
        "    dataset_path,\n",
        "    target_size=(image_height, image_width),\n",
        "    batch_size=batch_size,\n",
        "    class_mode='categorical'\n",
        ")\n",
        "\n",
        "#img found\n",
        "if train_data.samples == 0:\n",
        "    raise ValueError(\"No images found in the dataset directory.\")\n",
        "\n",
        "#train the model\n",
        "history = model.fit(\n",
        "    train_data,\n",
        "    epochs=num_epochs\n",
        ")\n",
        "\n",
        "#plot the loss and accuracy \n",
        "plt.figure(figsize=(12, 4))\n",
        "plt.subplot(1, 2, 1)\n",
        "plt.plot(history.history['loss'], label='Training Loss')\n",
        "plt.title('Training Loss')\n",
        "plt.xlabel('Epochs')\n",
        "plt.ylabel('Loss')\n",
        "plt.legend()\n",
        "\n",
        "plt.subplot(1, 2, 2)\n",
        "plt.plot(history.history['accuracy'], label='Training Accuracy')\n",
        "plt.title('Training Accuracy')\n",
        "plt.xlabel('Epochs')\n",
        "plt.ylabel('Accuracy')\n",
        "plt.legend()\n",
        "\n",
        "plt.tight_layout()\n",
        "plt.show()\n"
      ]
    }
  ]
}